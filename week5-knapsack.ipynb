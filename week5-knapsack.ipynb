{
 "cells": [
  {
   "cell_type": "code",
   "execution_count": 10,
   "metadata": {},
   "outputs": [],
   "source": [
    "\"\"\"\n",
    "Ravasiye Güney\n",
    "180401019\n",
    "\"\"\"\n",
    "#greedy algorithms=bulunduğun durumda en iyi çözümü kabul et"
   ]
  },
  {
   "cell_type": "code",
   "execution_count": 11,
   "metadata": {},
   "outputs": [
    {
     "ename": "SyntaxError",
     "evalue": "unexpected character after line continuation character (<ipython-input-11-960038a0792a>, line 13)",
     "output_type": "error",
     "traceback": [
      "\u001b[1;36m  File \u001b[1;32m\"<ipython-input-11-960038a0792a>\"\u001b[1;36m, line \u001b[1;32m13\u001b[0m\n\u001b[1;33m    result= '<' +self.name + ',' +str(self.value)\\+ ',' +str(self.weight)+ '>'\u001b[0m\n\u001b[1;37m                                                                              ^\u001b[0m\n\u001b[1;31mSyntaxError\u001b[0m\u001b[1;31m:\u001b[0m unexpected character after line continuation character\n"
     ]
    }
   ],
   "source": [
    "class Item(object):\n",
    "    def __init__(self,n,v,w):\n",
    "        self.name=n\n",
    "        self.value=v\n",
    "        self.weight=w\n",
    "    def getName(self):\n",
    "        return self.name\n",
    "    def getValue(self):\n",
    "        return self.value\n",
    "    def getWeight(self):\n",
    "        return self.weight\n",
    "    def __str__(self):\n",
    "        result= '<' +self.name + ',' +str(self.value)\\+ ',' +str(self.weight)+ '>'\n",
    "        return result\n",
    "def value(item):\n",
    "    return item.getValue() #value döndürür.\n",
    "\n",
    "def weightInverse(item):\n",
    "    return 1.0/item.getValue()/item.getWeight()  #agırlıgın tersini döndürür.\n",
    "\n",
    "def density(item):\n",
    "    return item.getValue()/item.getWeight()  #value/weight döndürür."
   ]
  },
  {
   "cell_type": "code",
   "execution_count": 12,
   "metadata": {},
   "outputs": [],
   "source": [
    "def greedy(items,maxWeight,keyFunction):\n",
    "    \"\"\"Assumes Items a list,maxWeight >=0,\n",
    "       keyFunction maps elements of Items to numbers\"\"\"\n",
    "    itemsCopy=sorted(items,key=keyFunction,reverse=True) \n",
    "    result=[]\n",
    "    totalValue,totalWeight=0.0,0.0\n",
    "    for i in range(len(itemsCopy)):\n",
    "        if(totalWeight+itemsCopy[i].getWeight())<= maxWeight:\n",
    "            result.append(itemsCopy[i])\n",
    "            totalWeight += itemsCopy[i].getValue()\n",
    "    return (result,totalValue)\n",
    "#result gönderdiğimiz itemları tutan liste"
   ]
  },
  {
   "cell_type": "code",
   "execution_count": 13,
   "metadata": {},
   "outputs": [],
   "source": [
    "def buildItems():\n",
    "    names=['clock','painting', 'radio','vase','book','computer']\n",
    "    values=[175,90,20,50,10,200]\n",
    "    weights=[10,9,4,2,1,20]\n",
    "    Items=[]\n",
    "    for i in range(len(values)):\n",
    "        Items.append(Item(names[i],values[i],weights[i]))\n",
    "    return Items\n",
    "\n",
    "def testGreedy(items,maxWeight,keyFunction):\n",
    "    taken,val=greedy(items,maxWeight,keyFunction)\n",
    "    print('Total value of items taken is',val)\n",
    "    for item in taken:\n",
    "        print(' ',item)\n",
    "def testGreedys(maxWeight=20):\n",
    "    items=buildItems()\n",
    "    print('Use greedy by value to fill knapsack of size',maxWeight)\n",
    "    testGreedy(items,maxWeight,value) #en yuksek value' ya göre işlemler\n",
    "    print('\\nUse greedy by density to fill knapsack of size',maxWeight)\n",
    "    testGreedy(items,maxWeight, weightInverse) #weight'e göre işlemler\n",
    "    print('\\nUse greedy by density to fill knapsack of size',maxWeight)\n",
    "    testGreedy(items,maxWeight,density)"
   ]
  },
  {
   "cell_type": "code",
   "execution_count": 14,
   "metadata": {},
   "outputs": [],
   "source": [
    "def chooseBest(pset,maxWeight, getVal, getWeight):\n",
    "    bestVal=0.0\n",
    "    bestSet=None\n",
    "    for items in pset:\n",
    "        itemsVal=0.0\n",
    "        itemsWeight=0.0\n",
    "        for item in items:\n",
    "            itemsVal += getVal(item)\n",
    "            itemsWeight += getWeight(item)\n",
    "        if itemsWeight <= maxWeight and itemsVal > bestVal:\n",
    "            bestVal= itemsVal\n",
    "            bestSet= items\n",
    "    return (bestSet,bestVal)\n",
    "\n",
    "def testBest(maxWeight=20):\n",
    "    items=buildItems()\n",
    "    pset=genPowerset(items)\n",
    "    taken,val=chooseBest(pset,maxWeight, Item.getValue, Item.getWeight)\n",
    "    print('total value of items taken is',val)\n",
    "    for item in taken:\n",
    "        print(item)"
   ]
  },
  {
   "cell_type": "code",
   "execution_count": null,
   "metadata": {},
   "outputs": [],
   "source": [
    "#powerset kodu"
   ]
  },
  {
   "cell_type": "code",
   "execution_count": 15,
   "metadata": {},
   "outputs": [],
   "source": [
    "from pprint import pprint as pp\n",
    "from itertools import chain,combinations\n",
    "def powerset(iterable):\n",
    "    \"powerset([1,2,3])--> ()(1,)(3,)(1,2)(1,3)(2,3)(1,2,3)\"\n",
    "    s=list(iterable)\n",
    "    return chain.from_iterable(combinations(s,r)for r in range(len(s)+1))"
   ]
  },
  {
   "cell_type": "code",
   "execution_count": 18,
   "metadata": {},
   "outputs": [],
   "source": [
    "pset=set(powerset({1,2,3,4}))"
   ]
  },
  {
   "cell_type": "code",
   "execution_count": 19,
   "metadata": {},
   "outputs": [
    {
     "name": "stdout",
     "output_type": "stream",
     "text": [
      "(1, 2)\n",
      "(1, 3)\n",
      "(1, 2, 3, 4)\n",
      "(1,)\n",
      "(2,)\n",
      "(3,)\n",
      "(1, 4)\n",
      "(4,)\n",
      "(1, 2, 3)\n",
      "()\n",
      "(2, 3)\n",
      "(1, 2, 4)\n",
      "(1, 3, 4)\n",
      "(2, 3, 4)\n",
      "(3, 4)\n",
      "(2, 4)\n"
     ]
    }
   ],
   "source": [
    "for set_1 in pset:\n",
    "    print(set_1)"
   ]
  }
 ],
 "metadata": {
  "kernelspec": {
   "display_name": "Python 3",
   "language": "python",
   "name": "python3"
  },
  "language_info": {
   "codemirror_mode": {
    "name": "ipython",
    "version": 3
   },
   "file_extension": ".py",
   "mimetype": "text/x-python",
   "name": "python",
   "nbconvert_exporter": "python",
   "pygments_lexer": "ipython3",
   "version": "3.7.4"
  }
 },
 "nbformat": 4,
 "nbformat_minor": 2
}
