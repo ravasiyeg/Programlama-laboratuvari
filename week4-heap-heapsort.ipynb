{
 "cells": [
  {
   "cell_type": "code",
   "execution_count": 15,
   "metadata": {},
   "outputs": [
    {
     "data": {
      "text/plain": [
       "'\\nRavasiye Güney\\n180401019\\n\\nmin_heapify(array,i)=diziyi heap hale getirir. i=diziye gönderilen index\\nbuild_min_heap(array)=sizinin len/2si kadar min_heapify fonksiyonuna gönderir. heap oluşturur.\\nheapsort(array)= heap diziye sort islemi uygular.\\ninsertItemToHeap(myheap_1,item)=diziye(myheap_1) item adlı elemanı ekler.\\nremoveItemFrom(myheap_1)= diziden son elamanı siler.\\n\\n'"
      ]
     },
     "execution_count": 15,
     "metadata": {},
     "output_type": "execute_result"
    }
   ],
   "source": [
    "\"\"\"\n",
    "Ravasiye Güney\n",
    "180401019\n",
    "\n",
    "min_heapify(array,i)=diziyi heap hale getirir. i=diziye gönderilen index\n",
    "build_min_heap(array)=sizinin len/2si kadar min_heapify fonksiyonuna gönderir. heap oluşturur.\n",
    "heapsort(array)= heap diziye sort islemi uygular.\n",
    "insertItemToHeap(myheap_1,item)=diziye(myheap_1) item adlı elemanı ekler.\n",
    "removeItemFrom(myheap_1)= diziden son elamanı siler.\n",
    "\n",
    "\"\"\""
   ]
  },
  {
   "cell_type": "code",
   "execution_count": 16,
   "metadata": {},
   "outputs": [],
   "source": [
    "def min_heapify(array,i):\n",
    "    left=2*i+1\n",
    "    right=2*i+2\n",
    "    length=len(array)-1\n",
    "    smallest=i\n",
    "    if left<=length and array[i]>array[left]:\n",
    "        smallest=left\n",
    "    if right<=length and array[smallest]>array[right]:\n",
    "        smallest=right\n",
    "    if smallest!=i:\n",
    "        array[i],array[smallest]=array[smallest],array[i]\n",
    "        min_heapify(array,smallest) #recursive olarak kendini cagirir."
   ]
  },
  {
   "cell_type": "code",
   "execution_count": 17,
   "metadata": {},
   "outputs": [],
   "source": [
    "def build_min_heap(array):\n",
    "    for i in reversed(range(len(array)//2)): #tersten başlayararak len/2 kere işlem uygular\n",
    "        min_heapify(array,i)"
   ]
  },
  {
   "cell_type": "code",
   "execution_count": 18,
   "metadata": {
    "scrolled": true
   },
   "outputs": [],
   "source": [
    "def insertItemToHeap(myheap_1,item):\n",
    "    if(not myheap_1.count(item)):\n",
    "        myheap_1.append(item)\n",
    "    i=len(myheap_1)-1  \n",
    "    parent = (i-1)//2\n",
    "    while parent>=0 and myheap_1[parent] > myheap_1[i]:\n",
    "        myheap_1[parent],myheap_1[i] = myheap_1[i],myheap_1[parent]            \n",
    "        i = parent\n",
    "        parent = (i-1)//2\n",
    "    build_min_heap(myheap_1)\n",
    "    return myheap_1"
   ]
  },
  {
   "cell_type": "code",
   "execution_count": 19,
   "metadata": {},
   "outputs": [],
   "source": [
    "def removeItemFrom(myheap_1):\n",
    "    length = len(myheap_1)\n",
    "    if length <= 0:\n",
    "        print(\"heap boş\")\n",
    "        return\n",
    "    myheap_1.pop()"
   ]
  },
  {
   "cell_type": "code",
   "execution_count": 20,
   "metadata": {},
   "outputs": [],
   "source": [
    "def heapsort(array):\n",
    "    array=array.copy() #diziyi kopyaladık\n",
    "    build_min_heap(array) \n",
    "    sorted_array=[] #elemanları yeni boş diziye atıyoruz.\n",
    "    for _ in range(len(array)): \n",
    "        array[0],array[-1]=array[-1],array[0] #dizinin başı ile sonunu yer değiştirdi\n",
    "        sorted_array.append(array.pop()) #sondakini çıkarma\n",
    "        min_heapify(array,0) #kalan diziyi heapify'a gönderir\n",
    "    return sorted_array"
   ]
  },
  {
   "cell_type": "code",
   "execution_count": 21,
   "metadata": {},
   "outputs": [
    {
     "data": {
      "text/plain": [
       "([8, 10, 3, 4, 7, 15, 1, 2, 16], [1, 2, 3, 4, 7, 8, 10, 15, 16])"
      ]
     },
     "execution_count": 21,
     "metadata": {},
     "output_type": "execute_result"
    }
   ],
   "source": [
    "my_array_1=[8,10,3,4,7,15,1,2,16]\n",
    "my_array_2 = heapsort(my_array_1)\n",
    "my_array_1,my_array_2"
   ]
  },
  {
   "cell_type": "code",
   "execution_count": 22,
   "metadata": {},
   "outputs": [
    {
     "data": {
      "text/plain": [
       "[1, 2, 3, 4, 5, 6, 8, 10, 16, 42]"
      ]
     },
     "execution_count": 22,
     "metadata": {},
     "output_type": "execute_result"
    }
   ],
   "source": [
    "insertItemToHeap(my_array_1,42)\n",
    "insertItemToHeap(my_array_1,5)\n",
    "insertItemToHeap(my_array_1,6)\n",
    "insertItemToHeap(my_array_1,17)\n",
    "insertItemToHeap(my_array_1,38)\n",
    "removeItemFrom(my_array_1)\n",
    "removeItemFrom(my_array_1)\n",
    "removeItemFrom(my_array_1)\n",
    "removeItemFrom(my_array_1)\n",
    "\n",
    "\n",
    "my_array_1"
   ]
  }
 ],
 "metadata": {
  "kernelspec": {
   "display_name": "Python 3",
   "language": "python",
   "name": "python3"
  },
  "language_info": {
   "codemirror_mode": {
    "name": "ipython",
    "version": 3
   },
   "file_extension": ".py",
   "mimetype": "text/x-python",
   "name": "python",
   "nbconvert_exporter": "python",
   "pygments_lexer": "ipython3",
   "version": "3.7.4"
  }
 },
 "nbformat": 4,
 "nbformat_minor": 2
}
