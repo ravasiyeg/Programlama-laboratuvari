{
 "cells": [
  {
   "cell_type": "code",
   "execution_count": 1,
   "metadata": {},
   "outputs": [],
   "source": [
    "import scipy.integrate"
   ]
  },
  {
   "cell_type": "code",
   "execution_count": null,
   "metadata": {},
   "outputs": [],
   "source": [
    "def gaussian(x,mu,sigma):\n",
    "    factor1=(1/(sigma*((2*pylab.pi)**0.5)))\n",
    "    factor2=pylab.e**-(((x-mu)**2)/(2*sigma**2))\n",
    "    return factor1*factor2\n",
    "\n",
    "area=round(scipy.integrate.quad(gaussian,-3,3,(0,1))[0],4)#ortalaması 0 varyansı 1 ve herhangi bir sayının -3 ile 3 aralığında olma ihtimali\n",
    "print('Probability of being within 3',\n",
    "     'of true mean of tight dist=',area)\n",
    "area=round(scipy.integrate.quad(gaussian,-3,3(0,100))[0],4)\n",
    "printf('Probability of being within 3',\n",
    "      'of true mean of wide dist.=',area)"
   ]
  }
 ],
 "metadata": {
  "kernelspec": {
   "display_name": "Python 3",
   "language": "python",
   "name": "python3"
  },
  "language_info": {
   "codemirror_mode": {
    "name": "ipython",
    "version": 3
   },
   "file_extension": ".py",
   "mimetype": "text/x-python",
   "name": "python",
   "nbconvert_exporter": "python",
   "pygments_lexer": "ipython3",
   "version": "3.7.4"
  }
 },
 "nbformat": 4,
 "nbformat_minor": 2
}
