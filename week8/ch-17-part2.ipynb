{
 "cells": [
  {
   "cell_type": "code",
   "execution_count": null,
   "metadata": {},
   "outputs": [],
   "source": [
    "def getBMData(filename):\n",
    "    \"\"\"Read the contents of the given file. Assumes the file \n",
    "    in a comma-separated format, with 6 elements in each entry:\n",
    "    0. Name(string), 1.Gender(string), 2.Age(int)\n",
    "    3.Division(int), 4.Country(string), 5.Overall time(float)\n",
    "    Returns: dict containing a list for each of the 6 variables.\"\"\"\n",
    "    "
   ]
  },
  {
   "cell_type": "code",
   "execution_count": null,
   "metadata": {},
   "outputs": [],
   "source": [
    "data={}\n",
    "f=open(filename)\n",
    "line=f.readline()\n",
    "data['name'],data['gender'],data['age']=[],[],[]\n",
    "data['division'],data['country'],data['time']=[],[],[]\n",
    "while line!=' ':\n",
    "    split=line.split(',')\n",
    "    data['name'].append(split[0])\n",
    "    data['gender'].append(split[1])\n",
    "    data['age'].append(int(split[2]))\n",
    "    data['division'].append(int(split[3]))\n",
    "    data['country'].append(split[4])\n",
    "    data['time'].append(float(split[5][:-1]))\n",
    "    line= f.readline()\n",
    "f.close()\n",
    "return data\n",
    "\n",
    "def makeHist(data,bins,title,xLabel,yLabel):\n",
    "    pylab.hist(data,bins)\n",
    "    pylab.title(title)\n",
    "    pylab.xlabel(xLabel)\n",
    "    pylab.yLabel(yLabel)\n",
    "    mean=sum(data)/len(data)\n",
    "    std=stdDev(data)\n",
    "    pylab.annotate('Mean= '+str(round(mean,2))+\\ \n",
    "                   'nSD= '+str(round(std,2)), fontsize=20,\n",
    "                   xy=(0.65,0.75), xycoords='axes fraciton')\n",
    "times=getBMData('bm_results2012.txt')['time']\n",
    "makeHist(times,20,'2012 Boston Marathon',\n",
    "        'Minutes to Complete ,Race', 'Number of Runners') "
   ]
  },
  {
   "cell_type": "code",
   "execution_count": null,
   "metadata": {},
   "outputs": [],
   "source": [
    "def sampleTimes(times,numExamples):#veriyi ve kac ornek alıcagmızı soyler.\n",
    "    sample=random.sample(times,numExamples) #veri ve ornek sayisi sample fonksiyonuna iletilir.\n",
    "    makeHist(sample,10,'Sample of Size'+ str(numExamples),\n",
    "            'Minutes to Complete Race', 'Number of Runners')\n",
    "    \n",
    "sampleSize=40\n",
    "sampleTimes(times,sampleSize)\n",
    "   "
   ]
  }
 ],
 "metadata": {
  "kernelspec": {
   "display_name": "Python 3",
   "language": "python",
   "name": "python3"
  },
  "language_info": {
   "codemirror_mode": {
    "name": "ipython",
    "version": 3
   },
   "file_extension": ".py",
   "mimetype": "text/x-python",
   "name": "python",
   "nbconvert_exporter": "python",
   "pygments_lexer": "ipython3",
   "version": "3.7.4"
  }
 },
 "nbformat": 4,
 "nbformat_minor": 2
}
