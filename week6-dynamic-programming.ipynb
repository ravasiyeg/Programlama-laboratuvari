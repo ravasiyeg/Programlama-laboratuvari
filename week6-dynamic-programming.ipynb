{
 "cells": [
  {
   "cell_type": "code",
   "execution_count": 110,
   "metadata": {},
   "outputs": [],
   "source": [
    "#fibonacci function:\n",
    "def fib(n):\n",
    "    \"\"\"Assumes n is an int >=0\n",
    "    Returns Fibonacci of n\"\"\"\n",
    "    print(\"su an ki call degeri: \",n)\n",
    "    if n==0 or n==1:\n",
    "        return 1\n",
    "    else:\n",
    "        return fib(n-1)+fib(n-2)"
   ]
  },
  {
   "cell_type": "code",
   "execution_count": 111,
   "metadata": {},
   "outputs": [],
   "source": [
    "fib(15)"
   ]
  },
  {
   "cell_type": "code",
   "execution_count": 112,
   "metadata": {},
   "outputs": [],
   "source": [
    "#tekrar cagirimlari engellemis olur. \n",
    "#Hafizaya alma islemi yapip karsilastirmalar uygulama yontemiyle\n",
    "def fastFib(n,memo={}):\n",
    "    \"\"\"Assumes n is an int>=0, memo used only by recursive calls\n",
    "    Returns Fibonacci of n\"\"\"\n",
    "    print(\"su anki call degeri: \",n)\n",
    "    if n==0 or n==1:\n",
    "        return 1\n",
    "    try:\n",
    "        return memo[n]\n",
    "    except KeyError:\n",
    "        result=fastFib(n-1,memo)+fastFib(n-2,memo)\n",
    "        memo[n]=result\n",
    "    return result"
   ]
  },
  {
   "cell_type": "code",
   "execution_count": 113,
   "metadata": {},
   "outputs": [
    {
     "name": "stdout",
     "output_type": "stream",
     "text": [
      "su anki call degeri:  5\n",
      "su anki call degeri:  4\n",
      "su anki call degeri:  3\n",
      "su anki call degeri:  2\n",
      "su anki call degeri:  1\n",
      "su anki call degeri:  0\n",
      "su anki call degeri:  1\n",
      "su anki call degeri:  2\n",
      "su anki call degeri:  3\n"
     ]
    },
    {
     "data": {
      "text/plain": [
       "8"
      ]
     },
     "execution_count": 113,
     "metadata": {},
     "output_type": "execute_result"
    }
   ],
   "source": [
    "fastFib(5)"
   ]
  },
  {
   "cell_type": "code",
   "execution_count": 114,
   "metadata": {},
   "outputs": [],
   "source": [
    "memo=None"
   ]
  },
  {
   "cell_type": "code",
   "execution_count": 115,
   "metadata": {},
   "outputs": [],
   "source": [
    "class Item(object):\n",
    "    def __init__(self,n,v,w):\n",
    "        self.name=n\n",
    "        self.value=v\n",
    "        self.weight=w\n",
    "    def getName(self):\n",
    "        return self.name\n",
    "    def getValue(self):\n",
    "        return self.value\n",
    "    def getWeight(self):\n",
    "        return self.weight\n",
    "    def __str__(self):\n",
    "        result = '<' + (self.name) + ', ' + str(self.value)  + ', ' + str(self.weight) + '>'\n",
    "        return result"
   ]
  },
  {
   "cell_type": "code",
   "execution_count": 116,
   "metadata": {},
   "outputs": [],
   "source": [
    "def maxVal(toConsider,avail): #avail kapasite\n",
    "    if toConsider==[] or avail==0:\n",
    "        result=(0,())\n",
    "    elif toConsider[0].getWeight()>avail:\n",
    "        result=maxVal(toConsider[1:],avail)#ilk elemanın ağırlığı kapasiteden büyükse\n",
    "    else:\n",
    "        nextItem=toConsider[0]\n",
    "        withVal,withToTake=maxVal(toConsider[1:],avail-nextItem.getWeight())\n",
    "        withVal+=nextItem.getValue()\n",
    "        withoutVal,withoutToTake=maxVal(toConsider[1:],avail)\n",
    "        #choose better branch\n",
    "        if(withVal>withoutVal):\n",
    "            result=(withVal,withToTake+(nextItem,))\n",
    "        else:\n",
    "            result=(withoutVal,withoutToTake)\n",
    "    return result\n"
   ]
  },
  {
   "cell_type": "code",
   "execution_count": 117,
   "metadata": {},
   "outputs": [],
   "source": [
    "def smallTest():\n",
    "    names = ['a', 'b', 'c', 'd']\n",
    "    vals = [6, 7, 8, 9]\n",
    "    weights = [3, 3, 2, 5]\n",
    "    Items = []\n",
    "    for i in range(len(vals)):\n",
    "        Items.append(Item(names[i], vals[i], weights[i]))\n",
    "    val, taken = maxVal(Items, 5)\n",
    "    for item in taken:\n",
    "        print(item)\n",
    "    print(\"Total value of items taken = \", val)"
   ]
  },
  {
   "cell_type": "code",
   "execution_count": 118,
   "metadata": {},
   "outputs": [
    {
     "name": "stdout",
     "output_type": "stream",
     "text": [
      "<c, 8, 2>\n",
      "<b, 7, 3>\n",
      "Total value of items taken =  15\n"
     ]
    }
   ],
   "source": [
    "smallTest()"
   ]
  },
  {
   "cell_type": "code",
   "execution_count": 119,
   "metadata": {},
   "outputs": [],
   "source": [
    "import random\n",
    "def buildManyItems(numItems,maxVal,maxWeight):\n",
    "    items=[]\n",
    "    for i in range(numItems):\n",
    "        items.append(Item(str(i),random.randint(1,maxVal),random.randint(1,maxWeight)))\n",
    "    return items"
   ]
  },
  {
   "cell_type": "code",
   "execution_count": 120,
   "metadata": {},
   "outputs": [],
   "source": [
    "def bigTest(numItems):\n",
    "    items=buildManyItems(numItems,10,10)\n",
    "    val, taken=maxVal(items,40)\n",
    "    print('Items Taken')\n",
    "    for item in taken:\n",
    "        print(item)\n",
    "    print('Total value of items taken=',val)"
   ]
  },
  {
   "cell_type": "code",
   "execution_count": 121,
   "metadata": {},
   "outputs": [
    {
     "name": "stdout",
     "output_type": "stream",
     "text": [
      "Items Taken\n",
      "<3, 6, 5>\n",
      "<2, 1, 9>\n",
      "<1, 5, 2>\n",
      "<0, 6, 3>\n",
      "Total value of items taken= 18\n"
     ]
    }
   ],
   "source": [
    "bigTest(4)"
   ]
  },
  {
   "cell_type": "code",
   "execution_count": 122,
   "metadata": {},
   "outputs": [],
   "source": [
    "def fastMaxVal(toConsider,avail,memo={}):\n",
    "    if(len(toConsider),avail)in memo:\n",
    "        result=memo[(len(toConsider),avail)]\n",
    "    elif toConsider==[]or avail==0:\n",
    "        result=(0,())\n",
    "        return result\n",
    "    elif toConsider[0].getWeight()>avail:\n",
    "        result=fastMaxVal(toConsider[1:],avail,memo)\n",
    "    else:\n",
    "        nextItem=toConsider[0]\n",
    "        withVal,withToTake=fastMaxVal(toConsider[1:],avail-nextItem.getWeight(),memo)\n",
    "        withVal+=nextItem.getValue()\n",
    "        withoutVal,withoutToTake=fastMaxVal(toConsider[1:],avail,memo)\n",
    "        if withVal>withoutVal:\n",
    "            result=(withVal,withToTake+(nextItem,))\n",
    "        else:\n",
    "            result=(withoutVal,withoutToTake)\n",
    "    memo[(len(toConsider),avail)]=result\n",
    "    return result"
   ]
  },
  {
   "cell_type": "code",
   "execution_count": 123,
   "metadata": {},
   "outputs": [
    {
     "data": {
      "text/plain": [
       "(23,\n",
       " (<__main__.Item at 0x17df8b72a88>,\n",
       "  <__main__.Item at 0x17df8b72b48>,\n",
       "  <__main__.Item at 0x17df8b72b88>,\n",
       "  <__main__.Item at 0x17df8b72948>,\n",
       "  <__main__.Item at 0x17df8b72a08>))"
      ]
     },
     "execution_count": 123,
     "metadata": {},
     "output_type": "execute_result"
    }
   ],
   "source": [
    "numItems=5\n",
    "items=buildManyItems(numItems,10,10)\n",
    "fastMaxVal(items,40)"
   ]
  }
 ],
 "metadata": {
  "kernelspec": {
   "display_name": "Python 3",
   "language": "python",
   "name": "python3"
  },
  "language_info": {
   "codemirror_mode": {
    "name": "ipython",
    "version": 3
   },
   "file_extension": ".py",
   "mimetype": "text/x-python",
   "name": "python",
   "nbconvert_exporter": "python",
   "pygments_lexer": "ipython3",
   "version": "3.7.4"
  }
 },
 "nbformat": 4,
 "nbformat_minor": 2
}
